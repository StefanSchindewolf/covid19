{
 "metadata": {
  "language_info": {
   "codemirror_mode": {
    "name": "ipython",
    "version": 3
   },
   "file_extension": ".py",
   "mimetype": "text/x-python",
   "name": "python",
   "nbconvert_exporter": "python",
   "pygments_lexer": "ipython3",
   "version": "3.8.10"
  },
  "orig_nbformat": 4,
  "kernelspec": {
   "name": "python3",
   "display_name": "Python 3.8.10 64-bit"
  },
  "interpreter": {
   "hash": "31f2aee4e71d21fbe5cf8b01ff0e069b9275f58929596ceb00d14d90e3e16cd6"
  }
 },
 "nbformat": 4,
 "nbformat_minor": 2,
 "cells": [
  {
   "source": [
    "# Vaccine Adverse Event Reporting System (VAERS)\n",
    "VAERS ist ein Berichtsssystem über unerwünschte Wirkungen und Ereignisse durch die Verabreichung von Impfstoffen in den USA (https://vaers.hhs.gov/about.html). Die Datenpunkte werden durch freiwillige Meldungen der Patienten an die amerikanische FDA oder CDC erzeugt und von VAERS analysiert. Auf diese Weise können unerwünschte Wirkungen von Impfstoffen statistisch analysiert werden. Für 2021 wurden bereits Daten von **über 400.000 gegen COVID-19 geimpfte Personen** gesammelt. Insgesamt reicht die Historie der VAERS Daten bis 1990 zurück.\n",
    "\n",
    "## Datenquelle\n",
    "Die VAERS Daten stehen kostenlos zum Download unter https://vaers.hhs.gov/data.html zur Verfügung. Es handelt sich um einfache CSV-Dateien, die (über Konvertierung) auch in Excel eingelesen werden können. Allerdings sind die Dateien für Excel-Auswertungen schon zu groß und unhandlich, weshalb hier Python Pandas zum Einsatz kommt.\n",
    "\n",
    "Pro Jahr werden jeweils 3 Dateien erzeugt:\n",
    "* \"<Jahr\\>VAERSDATA.csv\"\n",
    "* \"<Jahr\\>VAERSSYMPTOMS.csv\"  -> Genaue Beschreibung der Symptome je Fall\n",
    "* \"<Jahr\\>VAERSVAX.csv\"         -> Daten zu den Details der erhaltenen Impfung\n",
    "\n",
    "## Ziel der Analyse\n",
    "In diesem einfachen Jupyter Notebook soll am Beispiel der VAERS Daten gezeigt werden, wie man Daten in Python Pandas importiert und erste einfache Analysen durchführt.\n",
    "\n",
    "\n",
    "## Abschnitt 1: Datenimport\n",
    "Zunächst importieren wir die Quelldaten, dazu geht ihr wie folgt vor:\n",
    "\n",
    "1. Ladet die Daten unter https://vaers.hhs.gov/data.html im ZIP-Format herunter. Ihr müsst dazu das Capture bestätigen. Am besten nehmt ihr gleich alle Daten, es sind ca. 300 MB komprimiert bzw. nach dem Entpacken ca. 1,1 GB.\n",
    "2. Legt die Daten in ein Verzeichnis, in dem auch euer Jupyter Notebook läuft (*mein Beispielname: AllVAERSDataCSVS*)\n",
    "3. Ladet die Daten in einen Pandas Dataframe"
   ],
   "cell_type": "markdown",
   "metadata": {}
  },
  {
   "cell_type": "code",
   "execution_count": 11,
   "metadata": {},
   "outputs": [
    {
     "output_type": "stream",
     "name": "stdout",
     "text": [
      "Loading done, current year is 2021, data files are located in: /home/sts/Documents/8_Engineering/Projects/vaers/AllVAERSDataCSVS/\n"
     ]
    }
   ],
   "source": [
    "# Laden der erforderlichen Module\n",
    "import os\n",
    "import re\n",
    "from datetime import datetime, date\n",
    "import pandas as pd\n",
    "\n",
    "# Initialisieren einiger Variablen\n",
    "df_list = {'data': pd.DataFrame(), 'symptoms': pd.DataFrame(), 'vax': pd.DataFrame()}\n",
    "year = datetime.today().year\n",
    "max_year = 1990\n",
    "df_names = {'VAERSDATA': 'data', 'VAERSSYMPTOMS': 'symptoms', 'VAERSVAX': 'vax'}\n",
    "\n",
    "# Ablageort unserer Daten\n",
    "path = '{}/AllVAERSDataCSVS/'.format(os.getcwd())\n",
    "print('Loading done, current year is {}, data files are located in: {}'.format(year, path))"
   ]
  },
  {
   "source": [
    "### Selektion des Daten-Zeitraums für den Import\n",
    "\n",
    "Da wir pro Jahr 3 Dateien haben und jeder Dateiname mit dem Jahr vorangestellt bezeichnet ist, können wir einen einfachen Filter bauen."
   ],
   "cell_type": "markdown",
   "metadata": {}
  },
  {
   "cell_type": "code",
   "execution_count": 12,
   "metadata": {},
   "outputs": [
    {
     "output_type": "stream",
     "name": "stdout",
     "text": [
      "Listing files in /home/sts/Documents/8_Engineering/Projects/vaers/AllVAERSDataCSVS/\n",
      "Reading data file 2021VAERSDATA.csv into dataframe data\n",
      "Reading data file 2020VAERSDATA.csv into dataframe data\n",
      "Reading data file 2020VAERSSYMPTOMS.csv into dataframe symptoms\n",
      "Reading data file 2020VAERSVAX.csv into dataframe vax\n",
      "Reading data file 2021VAERSSYMPTOMS.csv into dataframe symptoms\n",
      "Reading data file 2021VAERSVAX.csv into dataframe vax\n",
      "Reading done\n"
     ]
    }
   ],
   "source": [
    "# Wir wollen uns die Daten des aktuellen Jahres anschauen (falls weitere Jahre importiert werden sollen, hier einfach die Anzahl der Jahre hochsetzen)\n",
    "history = 1     # Maximalwert ist \"aktuelles Jahr\" minus 1990 (erstes Jahr), also 31 zum Zeitpunkt, als dieses Notebook erstellt wurde\n",
    "\n",
    "# Erstmal alle Dateinamen im Verzeichnis einlesen und filtern auf Dateien mit der Endung .csv\n",
    "print('Listing files in {}'.format(path))\n",
    "file_list = pd.Series(os.listdir(path))\n",
    "file_list = file_list.loc[file_list.str.endswith('.csv')]\n",
    "\n",
    "# Wir filtern auf die Daten des aktuellen Jahres gehen so viele Jahre zurück, wie in \"history\" angegeben\n",
    "file_list = file_list.loc[file_list.str.slice(start=0, stop=4).isin([(str(x)) for x in range(year - history, year +1)])]\n",
    "\n",
    "for key, file in file_list.items():\n",
    "    #filetype = [re.search('{}'.format(x), file) for x in df_names.keys()]\n",
    "    for ftype, dfname in df_names.items():\n",
    "        if re.search(ftype, file):\n",
    "            print('Reading data file {} into dataframe {}'.format(file, dfname))\n",
    "            df_list[dfname] = df_list[dfname].append(pd.read_csv('{}{}'.format(path, file), low_memory=False))\n",
    "print('Reading done')"
   ]
  },
  {
   "source": [
    "## Abschnitt 2: Übersicht zu Covid-19 Impfungen\n",
    "\n",
    "** Anzahl Geimpfte und Verstorbene**\n",
    "\n",
    "Zunächst müssen wir die Tabellen `VAERSDATA` und `VAERSVAX` über die `VAERS_ID` miteinander verknüpfen. Dann gruppieren wir die Daten nach dem Typ der Impfung (`VAX_TYPE == 'COVID19`) und berechnen Summen und Anteile von Geimpften und Verstorbenen."
   ],
   "cell_type": "markdown",
   "metadata": {}
  },
  {
   "cell_type": "code",
   "execution_count": 59,
   "metadata": {},
   "outputs": [
    {
     "output_type": "stream",
     "name": "stdout",
     "text": [
      "Found 417186 entries with COVID 19 vaccinated individuals\n",
      "Counted 5466 deceased vaccinated individuals (1.31 %)\n",
      "Deaths per vaccine: \n",
      "                                     RECVDATE  DIED  PRCT_DIED\n",
      "VAX_NAME                                                      \n",
      "COVID19 (COVID19 (JANSSEN))             41510   480       1.16\n",
      "COVID19 (COVID19 (MODERNA))            188508  2558       1.36\n",
      "COVID19 (COVID19 (PFIZER-BIONTECH))    186195  2403       1.29\n",
      "COVID19 (COVID19 (UNKNOWN))               973    25       2.57\n"
     ]
    }
   ],
   "source": [
    "# Join VAERSDATA und VAERSVAX\n",
    "df = pd.merge(df_list['data'], df_list['vax'],how='left', on='VAERS_ID')\n",
    "# Filter Covid-19 entries, count all reported cases and count all deceased cases\n",
    "covid_mask = df.loc[df['VAX_TYPE'] == 'COVID19']\n",
    "print('Found {} entries with COVID 19 vaccinated individuals'.format(len(covid_mask)))\n",
    "covid_vax_dead = covid_mask.loc[covid_mask['DIED'] == 'Y']\n",
    "print('Counted {} deceased vaccinated individuals ({} %)'.format(len(covid_vax_dead), (round(len(covid_vax_dead)/len(covid_mask)*100,2))))\n",
    "dead_per_vax = covid_mask.groupby(by='VAX_NAME').count()\n",
    "dead_per_vax['PRCT_DIED'] = round(dead_per_vax['DIED'] / dead_per_vax['RECVDATE'] * 100, 2)\n",
    "print('Deaths per vaccine: ')\n",
    "print(dead_per_vax[['RECVDATE','DIED', 'PRCT_DIED']])"
   ]
  },
  {
   "source": [
    "**Häufigste Symptome**\n",
    "\n",
    "Wir zählen wiederum die Anzahl der Fälle und berechnen die häufigsten Symptome. Die Symptom-Tabelle kann je VAERS_ID mehrere Zeilen enthalten. Da pro Zeile maximal 5 Symptome eingetragen werden können, werden alle weiteren Symptome in Form neuer Tabellenzeilen erfasst.\n",
    "\n",
    "Statt mit einem einfachen `join, group, count` brauchen wir nun eine Kreuztabelle um zu sehen, welches Symptom bei welcher Person aufgetreten ist. Das wiederum können wir dann durchzählen. Aber zunächst haben wir es nicht mit nur einer Kreuztabelle zu tun, sondern mit 5.\n",
    "\n",
    "Hier ein Beispiel:"
   ],
   "cell_type": "markdown",
   "metadata": {}
  },
  {
   "cell_type": "code",
   "execution_count": 87,
   "metadata": {},
   "outputs": [
    {
     "output_type": "execute_result",
     "data": {
      "text/plain": [
       "    VAERS_ID                  SYMPTOM1  SYMPTOMVERSION1  \\\n",
       "12    916611  Blood pressure decreased             23.1   \n",
       "13    916611                  Dyspnoea             23.1   \n",
       "14    916611      Heart rate decreased             23.1   \n",
       "15    916611                    Nausea             23.1   \n",
       "16    916611  SARS-CoV-2 antibody test             23.1   \n",
       "\n",
       "                    SYMPTOM2  SYMPTOMVERSION2           SYMPTOM3  \\\n",
       "12                Chest pain             23.1             Chills   \n",
       "13                   Fatigue             23.1   Feeling abnormal   \n",
       "14      Heart rate increased             23.1       Hypertension   \n",
       "15                      Pain             23.1  Pain in extremity   \n",
       "16  SARS-CoV-2 test negative             23.1                NaN   \n",
       "\n",
       "    SYMPTOMVERSION3             SYMPTOM4  SYMPTOMVERSION4  \\\n",
       "12             23.1    Confusional state             23.1   \n",
       "13             23.1      Head discomfort             23.1   \n",
       "14             23.1  Injection site pain             23.1   \n",
       "15             23.1    Paraesthesia oral             23.1   \n",
       "16              NaN                  NaN              NaN   \n",
       "\n",
       "                      SYMPTOM5  SYMPTOMVERSION5  \n",
       "12          Decreased appetite             23.1  \n",
       "13                    Headache             23.1  \n",
       "14  Musculoskeletal chest pain             23.1  \n",
       "15                     Pyrexia             23.1  \n",
       "16                         NaN              NaN  "
      ],
      "text/html": "<div>\n<style scoped>\n    .dataframe tbody tr th:only-of-type {\n        vertical-align: middle;\n    }\n\n    .dataframe tbody tr th {\n        vertical-align: top;\n    }\n\n    .dataframe thead th {\n        text-align: right;\n    }\n</style>\n<table border=\"1\" class=\"dataframe\">\n  <thead>\n    <tr style=\"text-align: right;\">\n      <th></th>\n      <th>VAERS_ID</th>\n      <th>SYMPTOM1</th>\n      <th>SYMPTOMVERSION1</th>\n      <th>SYMPTOM2</th>\n      <th>SYMPTOMVERSION2</th>\n      <th>SYMPTOM3</th>\n      <th>SYMPTOMVERSION3</th>\n      <th>SYMPTOM4</th>\n      <th>SYMPTOMVERSION4</th>\n      <th>SYMPTOM5</th>\n      <th>SYMPTOMVERSION5</th>\n    </tr>\n  </thead>\n  <tbody>\n    <tr>\n      <th>12</th>\n      <td>916611</td>\n      <td>Blood pressure decreased</td>\n      <td>23.1</td>\n      <td>Chest pain</td>\n      <td>23.1</td>\n      <td>Chills</td>\n      <td>23.1</td>\n      <td>Confusional state</td>\n      <td>23.1</td>\n      <td>Decreased appetite</td>\n      <td>23.1</td>\n    </tr>\n    <tr>\n      <th>13</th>\n      <td>916611</td>\n      <td>Dyspnoea</td>\n      <td>23.1</td>\n      <td>Fatigue</td>\n      <td>23.1</td>\n      <td>Feeling abnormal</td>\n      <td>23.1</td>\n      <td>Head discomfort</td>\n      <td>23.1</td>\n      <td>Headache</td>\n      <td>23.1</td>\n    </tr>\n    <tr>\n      <th>14</th>\n      <td>916611</td>\n      <td>Heart rate decreased</td>\n      <td>23.1</td>\n      <td>Heart rate increased</td>\n      <td>23.1</td>\n      <td>Hypertension</td>\n      <td>23.1</td>\n      <td>Injection site pain</td>\n      <td>23.1</td>\n      <td>Musculoskeletal chest pain</td>\n      <td>23.1</td>\n    </tr>\n    <tr>\n      <th>15</th>\n      <td>916611</td>\n      <td>Nausea</td>\n      <td>23.1</td>\n      <td>Pain</td>\n      <td>23.1</td>\n      <td>Pain in extremity</td>\n      <td>23.1</td>\n      <td>Paraesthesia oral</td>\n      <td>23.1</td>\n      <td>Pyrexia</td>\n      <td>23.1</td>\n    </tr>\n    <tr>\n      <th>16</th>\n      <td>916611</td>\n      <td>SARS-CoV-2 antibody test</td>\n      <td>23.1</td>\n      <td>SARS-CoV-2 test negative</td>\n      <td>23.1</td>\n      <td>NaN</td>\n      <td>NaN</td>\n      <td>NaN</td>\n      <td>NaN</td>\n      <td>NaN</td>\n      <td>NaN</td>\n    </tr>\n  </tbody>\n</table>\n</div>"
     },
     "metadata": {},
     "execution_count": 87
    }
   ],
   "source": [
    "symdf = pd.DataFrame(df_list['symptoms'])\n",
    "#symdf.loc[symdf['VAERS_ID'].isin(df.loc[:20,'VAERS_ID'])]\n",
    "symdf.loc[symdf['VAERS_ID'] == 916611]"
   ]
  },
  {
   "source": [
    "Wir erstellen nun aus den einzelnen Spalten eine lange Key-Value Liste mit `VAERS_ID -> SYMPTOM`, indem wir die Daten \"übereinander stapeln\"."
   ],
   "cell_type": "markdown",
   "metadata": {}
  },
  {
   "cell_type": "code",
   "execution_count": 96,
   "metadata": {},
   "outputs": [
    {
     "output_type": "execute_result",
     "data": {
      "text/plain": [
       "0       VAERS_ID                 855017\n",
       "        SYMPTOM1             Arthralgia\n",
       "        SYMPTOM2                 Chills\n",
       "        SYMPTOM3    Injection site pain\n",
       "        SYMPTOM4                Pyrexia\n",
       "                           ...         \n",
       "531240  SYMPTOM1                  Death\n",
       "531241  VAERS_ID                1427476\n",
       "        SYMPTOM1             Blood test\n",
       "        SYMPTOM2       Muscle tightness\n",
       "        SYMPTOM3               Pruritus\n",
       "Length: 2489164, dtype: object"
      ]
     },
     "metadata": {},
     "execution_count": 96
    }
   ],
   "source": [
    "symdf.drop(['SYMPTOMVERSION1', 'SYMPTOMVERSION2', 'SYMPTOMVERSION3', 'SYMPTOMVERSION4', 'SYMPTOMVERSION5'], axis=1).stack()"
   ]
  },
  {
   "cell_type": "code",
   "execution_count": 92,
   "metadata": {},
   "outputs": [
    {
     "output_type": "error",
     "ename": "ValueError",
     "evalue": "cannot reindex from a duplicate axis",
     "traceback": [
      "\u001b[0;31m---------------------------------------------------------------------------\u001b[0m",
      "\u001b[0;31mValueError\u001b[0m                                Traceback (most recent call last)",
      "\u001b[0;32m<ipython-input-92-d4150d651dd6>\u001b[0m in \u001b[0;36m<module>\u001b[0;34m\u001b[0m\n\u001b[1;32m      2\u001b[0m \u001b[0;32mfor\u001b[0m \u001b[0mi\u001b[0m \u001b[0;32min\u001b[0m \u001b[0mrange\u001b[0m\u001b[0;34m(\u001b[0m\u001b[0;36m5\u001b[0m\u001b[0;34m)\u001b[0m\u001b[0;34m:\u001b[0m\u001b[0;34m\u001b[0m\u001b[0;34m\u001b[0m\u001b[0m\n\u001b[1;32m      3\u001b[0m     \u001b[0msymdf\u001b[0m\u001b[0;34m[\u001b[0m\u001b[0;34m'SYMPTOM{}'\u001b[0m\u001b[0;34m.\u001b[0m\u001b[0mformat\u001b[0m\u001b[0;34m(\u001b[0m\u001b[0mi\u001b[0m\u001b[0;34m+\u001b[0m\u001b[0;36m1\u001b[0m\u001b[0;34m)\u001b[0m\u001b[0;34m]\u001b[0m \u001b[0;34m=\u001b[0m \u001b[0msymdf\u001b[0m\u001b[0;34m[\u001b[0m\u001b[0;34m'SYMPTOM{}'\u001b[0m\u001b[0;34m.\u001b[0m\u001b[0mformat\u001b[0m\u001b[0;34m(\u001b[0m\u001b[0mi\u001b[0m\u001b[0;34m+\u001b[0m\u001b[0;36m1\u001b[0m\u001b[0;34m)\u001b[0m\u001b[0;34m]\u001b[0m\u001b[0;34m.\u001b[0m\u001b[0mastype\u001b[0m\u001b[0;34m(\u001b[0m\u001b[0;34m'category'\u001b[0m\u001b[0;34m)\u001b[0m\u001b[0;34m\u001b[0m\u001b[0;34m\u001b[0m\u001b[0m\n\u001b[0;32m----> 4\u001b[0;31m     \u001b[0mlong_df\u001b[0m \u001b[0;34m=\u001b[0m \u001b[0mlong_df\u001b[0m\u001b[0;34m.\u001b[0m\u001b[0mappend\u001b[0m\u001b[0;34m(\u001b[0m\u001b[0msymdf\u001b[0m\u001b[0;34m[\u001b[0m\u001b[0;34m'SYMPTOM{}'\u001b[0m\u001b[0;34m.\u001b[0m\u001b[0mformat\u001b[0m\u001b[0;34m(\u001b[0m\u001b[0mi\u001b[0m\u001b[0;34m+\u001b[0m\u001b[0;36m1\u001b[0m\u001b[0;34m)\u001b[0m\u001b[0;34m]\u001b[0m\u001b[0;34m.\u001b[0m\u001b[0mdropna\u001b[0m\u001b[0;34m(\u001b[0m\u001b[0;34m)\u001b[0m\u001b[0;34m)\u001b[0m\u001b[0;34m\u001b[0m\u001b[0;34m\u001b[0m\u001b[0m\n\u001b[0m\u001b[1;32m      5\u001b[0m \u001b[0mlong_df\u001b[0m\u001b[0;34m\u001b[0m\u001b[0;34m\u001b[0m\u001b[0m\n",
      "\u001b[0;32m~/.local/lib/python3.8/site-packages/pandas/core/frame.py\u001b[0m in \u001b[0;36mappend\u001b[0;34m(self, other, ignore_index, verify_integrity, sort)\u001b[0m\n\u001b[1;32m   7958\u001b[0m                 \u001b[0mcombined_columns\u001b[0m \u001b[0;34m=\u001b[0m \u001b[0mself\u001b[0m\u001b[0;34m.\u001b[0m\u001b[0mcolumns\u001b[0m\u001b[0;34m.\u001b[0m\u001b[0mastype\u001b[0m\u001b[0;34m(\u001b[0m\u001b[0mobject\u001b[0m\u001b[0;34m)\u001b[0m\u001b[0;34m.\u001b[0m\u001b[0mappend\u001b[0m\u001b[0;34m(\u001b[0m\u001b[0midx_diff\u001b[0m\u001b[0;34m)\u001b[0m\u001b[0;34m\u001b[0m\u001b[0;34m\u001b[0m\u001b[0m\n\u001b[1;32m   7959\u001b[0m             other = (\n\u001b[0;32m-> 7960\u001b[0;31m                 \u001b[0mother\u001b[0m\u001b[0;34m.\u001b[0m\u001b[0mreindex\u001b[0m\u001b[0;34m(\u001b[0m\u001b[0mcombined_columns\u001b[0m\u001b[0;34m,\u001b[0m \u001b[0mcopy\u001b[0m\u001b[0;34m=\u001b[0m\u001b[0;32mFalse\u001b[0m\u001b[0;34m)\u001b[0m\u001b[0;34m\u001b[0m\u001b[0;34m\u001b[0m\u001b[0m\n\u001b[0m\u001b[1;32m   7961\u001b[0m                 \u001b[0;34m.\u001b[0m\u001b[0mto_frame\u001b[0m\u001b[0;34m(\u001b[0m\u001b[0;34m)\u001b[0m\u001b[0;34m\u001b[0m\u001b[0;34m\u001b[0m\u001b[0m\n\u001b[1;32m   7962\u001b[0m                 \u001b[0;34m.\u001b[0m\u001b[0mT\u001b[0m\u001b[0;34m.\u001b[0m\u001b[0minfer_objects\u001b[0m\u001b[0;34m(\u001b[0m\u001b[0;34m)\u001b[0m\u001b[0;34m\u001b[0m\u001b[0;34m\u001b[0m\u001b[0m\n",
      "\u001b[0;32m~/.local/lib/python3.8/site-packages/pandas/core/series.py\u001b[0m in \u001b[0;36mreindex\u001b[0;34m(self, index, **kwargs)\u001b[0m\n\u001b[1;32m   4343\u001b[0m     )\n\u001b[1;32m   4344\u001b[0m     \u001b[0;32mdef\u001b[0m \u001b[0mreindex\u001b[0m\u001b[0;34m(\u001b[0m\u001b[0mself\u001b[0m\u001b[0;34m,\u001b[0m \u001b[0mindex\u001b[0m\u001b[0;34m=\u001b[0m\u001b[0;32mNone\u001b[0m\u001b[0;34m,\u001b[0m \u001b[0;34m**\u001b[0m\u001b[0mkwargs\u001b[0m\u001b[0;34m)\u001b[0m\u001b[0;34m:\u001b[0m\u001b[0;34m\u001b[0m\u001b[0;34m\u001b[0m\u001b[0m\n\u001b[0;32m-> 4345\u001b[0;31m         \u001b[0;32mreturn\u001b[0m \u001b[0msuper\u001b[0m\u001b[0;34m(\u001b[0m\u001b[0;34m)\u001b[0m\u001b[0;34m.\u001b[0m\u001b[0mreindex\u001b[0m\u001b[0;34m(\u001b[0m\u001b[0mindex\u001b[0m\u001b[0;34m=\u001b[0m\u001b[0mindex\u001b[0m\u001b[0;34m,\u001b[0m \u001b[0;34m**\u001b[0m\u001b[0mkwargs\u001b[0m\u001b[0;34m)\u001b[0m\u001b[0;34m\u001b[0m\u001b[0;34m\u001b[0m\u001b[0m\n\u001b[0m\u001b[1;32m   4346\u001b[0m \u001b[0;34m\u001b[0m\u001b[0m\n\u001b[1;32m   4347\u001b[0m     def drop(\n",
      "\u001b[0;32m~/.local/lib/python3.8/site-packages/pandas/core/generic.py\u001b[0m in \u001b[0;36mreindex\u001b[0;34m(self, *args, **kwargs)\u001b[0m\n\u001b[1;32m   4809\u001b[0m \u001b[0;34m\u001b[0m\u001b[0m\n\u001b[1;32m   4810\u001b[0m         \u001b[0;31m# perform the reindex on the axes\u001b[0m\u001b[0;34m\u001b[0m\u001b[0;34m\u001b[0m\u001b[0;34m\u001b[0m\u001b[0m\n\u001b[0;32m-> 4811\u001b[0;31m         return self._reindex_axes(\n\u001b[0m\u001b[1;32m   4812\u001b[0m             \u001b[0maxes\u001b[0m\u001b[0;34m,\u001b[0m \u001b[0mlevel\u001b[0m\u001b[0;34m,\u001b[0m \u001b[0mlimit\u001b[0m\u001b[0;34m,\u001b[0m \u001b[0mtolerance\u001b[0m\u001b[0;34m,\u001b[0m \u001b[0mmethod\u001b[0m\u001b[0;34m,\u001b[0m \u001b[0mfill_value\u001b[0m\u001b[0;34m,\u001b[0m \u001b[0mcopy\u001b[0m\u001b[0;34m\u001b[0m\u001b[0;34m\u001b[0m\u001b[0m\n\u001b[1;32m   4813\u001b[0m         ).__finalize__(self, method=\"reindex\")\n",
      "\u001b[0;32m~/.local/lib/python3.8/site-packages/pandas/core/generic.py\u001b[0m in \u001b[0;36m_reindex_axes\u001b[0;34m(self, axes, level, limit, tolerance, method, fill_value, copy)\u001b[0m\n\u001b[1;32m   4830\u001b[0m \u001b[0;34m\u001b[0m\u001b[0m\n\u001b[1;32m   4831\u001b[0m             \u001b[0maxis\u001b[0m \u001b[0;34m=\u001b[0m \u001b[0mself\u001b[0m\u001b[0;34m.\u001b[0m\u001b[0m_get_axis_number\u001b[0m\u001b[0;34m(\u001b[0m\u001b[0ma\u001b[0m\u001b[0;34m)\u001b[0m\u001b[0;34m\u001b[0m\u001b[0;34m\u001b[0m\u001b[0m\n\u001b[0;32m-> 4832\u001b[0;31m             obj = obj._reindex_with_indexers(\n\u001b[0m\u001b[1;32m   4833\u001b[0m                 \u001b[0;34m{\u001b[0m\u001b[0maxis\u001b[0m\u001b[0;34m:\u001b[0m \u001b[0;34m[\u001b[0m\u001b[0mnew_index\u001b[0m\u001b[0;34m,\u001b[0m \u001b[0mindexer\u001b[0m\u001b[0;34m]\u001b[0m\u001b[0;34m}\u001b[0m\u001b[0;34m,\u001b[0m\u001b[0;34m\u001b[0m\u001b[0;34m\u001b[0m\u001b[0m\n\u001b[1;32m   4834\u001b[0m                 \u001b[0mfill_value\u001b[0m\u001b[0;34m=\u001b[0m\u001b[0mfill_value\u001b[0m\u001b[0;34m,\u001b[0m\u001b[0;34m\u001b[0m\u001b[0;34m\u001b[0m\u001b[0m\n",
      "\u001b[0;32m~/.local/lib/python3.8/site-packages/pandas/core/generic.py\u001b[0m in \u001b[0;36m_reindex_with_indexers\u001b[0;34m(self, reindexers, fill_value, copy, allow_dups)\u001b[0m\n\u001b[1;32m   4875\u001b[0m \u001b[0;34m\u001b[0m\u001b[0m\n\u001b[1;32m   4876\u001b[0m             \u001b[0;31m# TODO: speed up on homogeneous DataFrame objects\u001b[0m\u001b[0;34m\u001b[0m\u001b[0;34m\u001b[0m\u001b[0;34m\u001b[0m\u001b[0m\n\u001b[0;32m-> 4877\u001b[0;31m             new_data = new_data.reindex_indexer(\n\u001b[0m\u001b[1;32m   4878\u001b[0m                 \u001b[0mindex\u001b[0m\u001b[0;34m,\u001b[0m\u001b[0;34m\u001b[0m\u001b[0;34m\u001b[0m\u001b[0m\n\u001b[1;32m   4879\u001b[0m                 \u001b[0mindexer\u001b[0m\u001b[0;34m,\u001b[0m\u001b[0;34m\u001b[0m\u001b[0;34m\u001b[0m\u001b[0m\n",
      "\u001b[0;32m~/.local/lib/python3.8/site-packages/pandas/core/internals/managers.py\u001b[0m in \u001b[0;36mreindex_indexer\u001b[0;34m(self, new_axis, indexer, axis, fill_value, allow_dups, copy, consolidate, only_slice)\u001b[0m\n\u001b[1;32m   1299\u001b[0m         \u001b[0;31m# some axes don't allow reindexing with dups\u001b[0m\u001b[0;34m\u001b[0m\u001b[0;34m\u001b[0m\u001b[0;34m\u001b[0m\u001b[0m\n\u001b[1;32m   1300\u001b[0m         \u001b[0;32mif\u001b[0m \u001b[0;32mnot\u001b[0m \u001b[0mallow_dups\u001b[0m\u001b[0;34m:\u001b[0m\u001b[0;34m\u001b[0m\u001b[0;34m\u001b[0m\u001b[0m\n\u001b[0;32m-> 1301\u001b[0;31m             \u001b[0mself\u001b[0m\u001b[0;34m.\u001b[0m\u001b[0maxes\u001b[0m\u001b[0;34m[\u001b[0m\u001b[0maxis\u001b[0m\u001b[0;34m]\u001b[0m\u001b[0;34m.\u001b[0m\u001b[0m_can_reindex\u001b[0m\u001b[0;34m(\u001b[0m\u001b[0mindexer\u001b[0m\u001b[0;34m)\u001b[0m\u001b[0;34m\u001b[0m\u001b[0;34m\u001b[0m\u001b[0m\n\u001b[0m\u001b[1;32m   1302\u001b[0m \u001b[0;34m\u001b[0m\u001b[0m\n\u001b[1;32m   1303\u001b[0m         \u001b[0;32mif\u001b[0m \u001b[0maxis\u001b[0m \u001b[0;34m>=\u001b[0m \u001b[0mself\u001b[0m\u001b[0;34m.\u001b[0m\u001b[0mndim\u001b[0m\u001b[0;34m:\u001b[0m\u001b[0;34m\u001b[0m\u001b[0;34m\u001b[0m\u001b[0m\n",
      "\u001b[0;32m~/.local/lib/python3.8/site-packages/pandas/core/indexes/base.py\u001b[0m in \u001b[0;36m_can_reindex\u001b[0;34m(self, indexer)\u001b[0m\n\u001b[1;32m   3474\u001b[0m         \u001b[0;31m# trying to reindex on an axis with duplicates\u001b[0m\u001b[0;34m\u001b[0m\u001b[0;34m\u001b[0m\u001b[0;34m\u001b[0m\u001b[0m\n\u001b[1;32m   3475\u001b[0m         \u001b[0;32mif\u001b[0m \u001b[0;32mnot\u001b[0m \u001b[0mself\u001b[0m\u001b[0;34m.\u001b[0m\u001b[0m_index_as_unique\u001b[0m \u001b[0;32mand\u001b[0m \u001b[0mlen\u001b[0m\u001b[0;34m(\u001b[0m\u001b[0mindexer\u001b[0m\u001b[0;34m)\u001b[0m\u001b[0;34m:\u001b[0m\u001b[0;34m\u001b[0m\u001b[0;34m\u001b[0m\u001b[0m\n\u001b[0;32m-> 3476\u001b[0;31m             \u001b[0;32mraise\u001b[0m \u001b[0mValueError\u001b[0m\u001b[0;34m(\u001b[0m\u001b[0;34m\"cannot reindex from a duplicate axis\"\u001b[0m\u001b[0;34m)\u001b[0m\u001b[0;34m\u001b[0m\u001b[0;34m\u001b[0m\u001b[0m\n\u001b[0m\u001b[1;32m   3477\u001b[0m \u001b[0;34m\u001b[0m\u001b[0m\n\u001b[1;32m   3478\u001b[0m     \u001b[0;32mdef\u001b[0m \u001b[0mreindex\u001b[0m\u001b[0;34m(\u001b[0m\u001b[0mself\u001b[0m\u001b[0;34m,\u001b[0m \u001b[0mtarget\u001b[0m\u001b[0;34m,\u001b[0m \u001b[0mmethod\u001b[0m\u001b[0;34m=\u001b[0m\u001b[0;32mNone\u001b[0m\u001b[0;34m,\u001b[0m \u001b[0mlevel\u001b[0m\u001b[0;34m=\u001b[0m\u001b[0;32mNone\u001b[0m\u001b[0;34m,\u001b[0m \u001b[0mlimit\u001b[0m\u001b[0;34m=\u001b[0m\u001b[0;32mNone\u001b[0m\u001b[0;34m,\u001b[0m \u001b[0mtolerance\u001b[0m\u001b[0;34m=\u001b[0m\u001b[0;32mNone\u001b[0m\u001b[0;34m)\u001b[0m\u001b[0;34m:\u001b[0m\u001b[0;34m\u001b[0m\u001b[0;34m\u001b[0m\u001b[0m\n",
      "\u001b[0;31mValueError\u001b[0m: cannot reindex from a duplicate axis"
     ]
    }
   ],
   "source": [
    "long_df = pd.DataFrame()\n",
    "for i in range(5):\n",
    "    symdf['SYMPTOM{}'.format(i+1)] = symdf['SYMPTOM{}'.format(i+1)].astype('category')\n",
    "    long_df = long_df.append(symdf['SYMPTOM{}'.format(i+1)].dropna())\n",
    "long_df"
   ]
  },
  {
   "cell_type": "code",
   "execution_count": 58,
   "metadata": {},
   "outputs": [
    {
     "output_type": "execute_result",
     "data": {
      "text/plain": [
       "Empty DataFrame\n",
       "Columns: [VAERS_ID, RECVDATE, STATE, AGE_YRS, CAGE_YR, CAGE_MO, SEX, RPT_DATE, SYMPTOM_TEXT, DIED, DATEDIED, L_THREAT, ER_VISIT, HOSPITAL, HOSPDAYS, X_STAY, DISABLE, RECOVD, VAX_DATE, ONSET_DATE, NUMDAYS, LAB_DATA, V_ADMINBY, V_FUNDBY, OTHER_MEDS, CUR_ILL, HISTORY, PRIOR_VAX, SPLTTYPE, FORM_VERS, TODAYS_DATE, BIRTH_DEFECT, OFC_VISIT, ER_ED_VISIT, ALLERGIES, VAX_TYPE, VAX_MANU, VAX_LOT, VAX_DOSE_SERIES, VAX_ROUTE, VAX_SITE, VAX_NAME, VAERS_IDSYM_, SYMPTOM1, SYMPTOMVERSION1, SYMPTOM2, SYMPTOMVERSION2, SYMPTOM3, SYMPTOMVERSION3, SYMPTOM4, SYMPTOMVERSION4, SYMPTOM5, SYMPTOMVERSION5]\n",
       "Index: []\n",
       "\n",
       "[0 rows x 53 columns]"
      ],
      "text/html": "<div>\n<style scoped>\n    .dataframe tbody tr th:only-of-type {\n        vertical-align: middle;\n    }\n\n    .dataframe tbody tr th {\n        vertical-align: top;\n    }\n\n    .dataframe thead th {\n        text-align: right;\n    }\n</style>\n<table border=\"1\" class=\"dataframe\">\n  <thead>\n    <tr style=\"text-align: right;\">\n      <th></th>\n      <th>VAERS_ID</th>\n      <th>RECVDATE</th>\n      <th>STATE</th>\n      <th>AGE_YRS</th>\n      <th>CAGE_YR</th>\n      <th>CAGE_MO</th>\n      <th>SEX</th>\n      <th>RPT_DATE</th>\n      <th>SYMPTOM_TEXT</th>\n      <th>DIED</th>\n      <th>...</th>\n      <th>SYMPTOM1</th>\n      <th>SYMPTOMVERSION1</th>\n      <th>SYMPTOM2</th>\n      <th>SYMPTOMVERSION2</th>\n      <th>SYMPTOM3</th>\n      <th>SYMPTOMVERSION3</th>\n      <th>SYMPTOM4</th>\n      <th>SYMPTOMVERSION4</th>\n      <th>SYMPTOM5</th>\n      <th>SYMPTOMVERSION5</th>\n    </tr>\n  </thead>\n  <tbody>\n  </tbody>\n</table>\n<p>0 rows × 53 columns</p>\n</div>"
     },
     "metadata": {},
     "execution_count": 58
    }
   ],
   "source": [
    "df_list['symptoms']['VAERS_ID'].drop_duplicates().count()\n",
    "df = df.join(df_list['symptoms'], how='inner', on='VAERS_ID', rsuffix='SYM_')\n",
    "df"
   ]
  },
  {
   "cell_type": "code",
   "execution_count": 24,
   "metadata": {},
   "outputs": [
    {
     "output_type": "execute_result",
     "data": {
      "text/plain": [
       "          VAERS_ID  DIED\n",
       "VAX_TYPE                \n",
       "COVID19     417186  5466\n",
       "VARZOS       13712    35\n",
       "FLU4          7052    32\n",
       "UNK           3688   120\n",
       "PPV           2949     9\n",
       "...            ...   ...\n",
       "RUB              1     0\n",
       "JEVX             1     0\n",
       "DTOX             1     0\n",
       "MNQHIB           1     0\n",
       "OPV              1     0\n",
       "\n",
       "[65 rows x 2 columns]"
      ],
      "text/html": "<div>\n<style scoped>\n    .dataframe tbody tr th:only-of-type {\n        vertical-align: middle;\n    }\n\n    .dataframe tbody tr th {\n        vertical-align: top;\n    }\n\n    .dataframe thead th {\n        text-align: right;\n    }\n</style>\n<table border=\"1\" class=\"dataframe\">\n  <thead>\n    <tr style=\"text-align: right;\">\n      <th></th>\n      <th>VAERS_ID</th>\n      <th>DIED</th>\n    </tr>\n    <tr>\n      <th>VAX_TYPE</th>\n      <th></th>\n      <th></th>\n    </tr>\n  </thead>\n  <tbody>\n    <tr>\n      <th>COVID19</th>\n      <td>417186</td>\n      <td>5466</td>\n    </tr>\n    <tr>\n      <th>VARZOS</th>\n      <td>13712</td>\n      <td>35</td>\n    </tr>\n    <tr>\n      <th>FLU4</th>\n      <td>7052</td>\n      <td>32</td>\n    </tr>\n    <tr>\n      <th>UNK</th>\n      <td>3688</td>\n      <td>120</td>\n    </tr>\n    <tr>\n      <th>PPV</th>\n      <td>2949</td>\n      <td>9</td>\n    </tr>\n    <tr>\n      <th>...</th>\n      <td>...</td>\n      <td>...</td>\n    </tr>\n    <tr>\n      <th>RUB</th>\n      <td>1</td>\n      <td>0</td>\n    </tr>\n    <tr>\n      <th>JEVX</th>\n      <td>1</td>\n      <td>0</td>\n    </tr>\n    <tr>\n      <th>DTOX</th>\n      <td>1</td>\n      <td>0</td>\n    </tr>\n    <tr>\n      <th>MNQHIB</th>\n      <td>1</td>\n      <td>0</td>\n    </tr>\n    <tr>\n      <th>OPV</th>\n      <td>1</td>\n      <td>0</td>\n    </tr>\n  </tbody>\n</table>\n<p>65 rows × 2 columns</p>\n</div>"
     },
     "metadata": {},
     "execution_count": 24
    }
   ],
   "source": [
    "df[['VAERS_ID','DIED', 'VAX_TYPE']].groupby(by=['VAX_TYPE']).count().sort_values(by=['VAERS_ID'], ascending=False)"
   ]
  },
  {
   "cell_type": "code",
   "execution_count": 25,
   "metadata": {},
   "outputs": [
    {
     "output_type": "execute_result",
     "data": {
      "text/plain": [
       "        VAERS_ID    RECVDATE STATE  AGE_YRS  CAGE_YR  CAGE_MO SEX RPT_DATE  \\\n",
       "0         916600  01/01/2021    TX     33.0     33.0      NaN   F      NaN   \n",
       "1         916601  01/01/2021    CA     73.0     73.0      NaN   F      NaN   \n",
       "2         916602  01/01/2021    WA     23.0     23.0      NaN   F      NaN   \n",
       "3         916603  01/01/2021    WA     58.0     58.0      NaN   F      NaN   \n",
       "4         916604  01/01/2021    TX     47.0     47.0      NaN   F      NaN   \n",
       "...          ...         ...   ...      ...      ...      ...  ..      ...   \n",
       "470981    918503  12/31/2020    RI     50.0     50.0      NaN   F      NaN   \n",
       "470982    918512  12/31/2020    OR      1.0      1.0      0.0   M      NaN   \n",
       "470983    918512  12/31/2020    OR      1.0      1.0      0.0   M      NaN   \n",
       "470984    918512  12/31/2020    OR      1.0      1.0      0.0   M      NaN   \n",
       "470985    918561  12/31/2020    WA     95.0     95.0      NaN   F      NaN   \n",
       "\n",
       "                                             SYMPTOM_TEXT DIED  ... OFC_VISIT  \\\n",
       "0       Right side of epiglottis swelled up and hinder...  NaN  ...         Y   \n",
       "1       Approximately 30 min post vaccination administ...  NaN  ...         Y   \n",
       "2       About 15 minutes after receiving the vaccine, ...  NaN  ...       NaN   \n",
       "3       extreme fatigue, dizziness,. could not lift my...  NaN  ...       NaN   \n",
       "4       Injection site swelling, redness, warm to the ...  NaN  ...       NaN   \n",
       "...                                                   ...  ...  ...       ...   \n",
       "470981  Nausea, tightness in chest from nausea  BP  10...  NaN  ...       NaN   \n",
       "470982  10 days after vaccines, developed hives & indu...  NaN  ...         Y   \n",
       "470983  10 days after vaccines, developed hives & indu...  NaN  ...         Y   \n",
       "470984  10 days after vaccines, developed hives & indu...  NaN  ...         Y   \n",
       "470985  Report of awakening with difficulty concentrat...  NaN  ...         Y   \n",
       "\n",
       "       ER_ED_VISIT                                          ALLERGIES  \\\n",
       "0              NaN                                  Pcn and bee venom   \n",
       "1              NaN                                            \"Dairy\"   \n",
       "2                Y                                          Shellfish   \n",
       "3              NaN  Diclofenac, novacaine, lidocaine, pickles, tom...   \n",
       "4              NaN                                                 Na   \n",
       "...            ...                                                ...   \n",
       "470981         NaN                            PCN, Prednisone, Bleach   \n",
       "470982         NaN                                                NKA   \n",
       "470983         NaN                                                NKA   \n",
       "470984         NaN                                                NKA   \n",
       "470985           Y                                             NSAIDs   \n",
       "\n",
       "       VAX_TYPE          VAX_MANU  VAX_LOT VAX_DOSE_SERIES VAX_ROUTE VAX_SITE  \\\n",
       "0       COVID19           MODERNA  037K20A               1        IM       LA   \n",
       "1       COVID19           MODERNA  025L20A               1        IM       RA   \n",
       "2       COVID19   PFIZER\\BIONTECH   EL1284               1        IM       LA   \n",
       "3       COVID19           MODERNA  unknown             UNK       NaN      NaN   \n",
       "4       COVID19           MODERNA      NaN               1        IM       LA   \n",
       "...         ...               ...      ...             ...       ...      ...   \n",
       "470981  COVID19           MODERNA  039K20A               1        IM       RA   \n",
       "470982      MMR  MERCK & CO. INC.  S029457               1        SC       LL   \n",
       "470983    PNC13      PFIZER\\WYETH   DJ7723               4        IM       LL   \n",
       "470984   VARCEL  MERCK & CO. INC.  T020652               1        SC       RL   \n",
       "470985  COVID19   PFIZER\\BIONTECH   EJ1685               1        IM       LA   \n",
       "\n",
       "                                   VAX_NAME  \n",
       "0               COVID19 (COVID19 (MODERNA))  \n",
       "1               COVID19 (COVID19 (MODERNA))  \n",
       "2       COVID19 (COVID19 (PFIZER-BIONTECH))  \n",
       "3               COVID19 (COVID19 (MODERNA))  \n",
       "4               COVID19 (COVID19 (MODERNA))  \n",
       "...                                     ...  \n",
       "470981          COVID19 (COVID19 (MODERNA))  \n",
       "470982   MEASLES + MUMPS + RUBELLA (MMR II)  \n",
       "470983                   PNEUMO (PREVNAR13)  \n",
       "470984                  VARICELLA (VARIVAX)  \n",
       "470985  COVID19 (COVID19 (PFIZER-BIONTECH))  \n",
       "\n",
       "[470986 rows x 42 columns]"
      ],
      "text/html": "<div>\n<style scoped>\n    .dataframe tbody tr th:only-of-type {\n        vertical-align: middle;\n    }\n\n    .dataframe tbody tr th {\n        vertical-align: top;\n    }\n\n    .dataframe thead th {\n        text-align: right;\n    }\n</style>\n<table border=\"1\" class=\"dataframe\">\n  <thead>\n    <tr style=\"text-align: right;\">\n      <th></th>\n      <th>VAERS_ID</th>\n      <th>RECVDATE</th>\n      <th>STATE</th>\n      <th>AGE_YRS</th>\n      <th>CAGE_YR</th>\n      <th>CAGE_MO</th>\n      <th>SEX</th>\n      <th>RPT_DATE</th>\n      <th>SYMPTOM_TEXT</th>\n      <th>DIED</th>\n      <th>...</th>\n      <th>OFC_VISIT</th>\n      <th>ER_ED_VISIT</th>\n      <th>ALLERGIES</th>\n      <th>VAX_TYPE</th>\n      <th>VAX_MANU</th>\n      <th>VAX_LOT</th>\n      <th>VAX_DOSE_SERIES</th>\n      <th>VAX_ROUTE</th>\n      <th>VAX_SITE</th>\n      <th>VAX_NAME</th>\n    </tr>\n  </thead>\n  <tbody>\n    <tr>\n      <th>0</th>\n      <td>916600</td>\n      <td>01/01/2021</td>\n      <td>TX</td>\n      <td>33.0</td>\n      <td>33.0</td>\n      <td>NaN</td>\n      <td>F</td>\n      <td>NaN</td>\n      <td>Right side of epiglottis swelled up and hinder...</td>\n      <td>NaN</td>\n      <td>...</td>\n      <td>Y</td>\n      <td>NaN</td>\n      <td>Pcn and bee venom</td>\n      <td>COVID19</td>\n      <td>MODERNA</td>\n      <td>037K20A</td>\n      <td>1</td>\n      <td>IM</td>\n      <td>LA</td>\n      <td>COVID19 (COVID19 (MODERNA))</td>\n    </tr>\n    <tr>\n      <th>1</th>\n      <td>916601</td>\n      <td>01/01/2021</td>\n      <td>CA</td>\n      <td>73.0</td>\n      <td>73.0</td>\n      <td>NaN</td>\n      <td>F</td>\n      <td>NaN</td>\n      <td>Approximately 30 min post vaccination administ...</td>\n      <td>NaN</td>\n      <td>...</td>\n      <td>Y</td>\n      <td>NaN</td>\n      <td>\"Dairy\"</td>\n      <td>COVID19</td>\n      <td>MODERNA</td>\n      <td>025L20A</td>\n      <td>1</td>\n      <td>IM</td>\n      <td>RA</td>\n      <td>COVID19 (COVID19 (MODERNA))</td>\n    </tr>\n    <tr>\n      <th>2</th>\n      <td>916602</td>\n      <td>01/01/2021</td>\n      <td>WA</td>\n      <td>23.0</td>\n      <td>23.0</td>\n      <td>NaN</td>\n      <td>F</td>\n      <td>NaN</td>\n      <td>About 15 minutes after receiving the vaccine, ...</td>\n      <td>NaN</td>\n      <td>...</td>\n      <td>NaN</td>\n      <td>Y</td>\n      <td>Shellfish</td>\n      <td>COVID19</td>\n      <td>PFIZER\\BIONTECH</td>\n      <td>EL1284</td>\n      <td>1</td>\n      <td>IM</td>\n      <td>LA</td>\n      <td>COVID19 (COVID19 (PFIZER-BIONTECH))</td>\n    </tr>\n    <tr>\n      <th>3</th>\n      <td>916603</td>\n      <td>01/01/2021</td>\n      <td>WA</td>\n      <td>58.0</td>\n      <td>58.0</td>\n      <td>NaN</td>\n      <td>F</td>\n      <td>NaN</td>\n      <td>extreme fatigue, dizziness,. could not lift my...</td>\n      <td>NaN</td>\n      <td>...</td>\n      <td>NaN</td>\n      <td>NaN</td>\n      <td>Diclofenac, novacaine, lidocaine, pickles, tom...</td>\n      <td>COVID19</td>\n      <td>MODERNA</td>\n      <td>unknown</td>\n      <td>UNK</td>\n      <td>NaN</td>\n      <td>NaN</td>\n      <td>COVID19 (COVID19 (MODERNA))</td>\n    </tr>\n    <tr>\n      <th>4</th>\n      <td>916604</td>\n      <td>01/01/2021</td>\n      <td>TX</td>\n      <td>47.0</td>\n      <td>47.0</td>\n      <td>NaN</td>\n      <td>F</td>\n      <td>NaN</td>\n      <td>Injection site swelling, redness, warm to the ...</td>\n      <td>NaN</td>\n      <td>...</td>\n      <td>NaN</td>\n      <td>NaN</td>\n      <td>Na</td>\n      <td>COVID19</td>\n      <td>MODERNA</td>\n      <td>NaN</td>\n      <td>1</td>\n      <td>IM</td>\n      <td>LA</td>\n      <td>COVID19 (COVID19 (MODERNA))</td>\n    </tr>\n    <tr>\n      <th>...</th>\n      <td>...</td>\n      <td>...</td>\n      <td>...</td>\n      <td>...</td>\n      <td>...</td>\n      <td>...</td>\n      <td>...</td>\n      <td>...</td>\n      <td>...</td>\n      <td>...</td>\n      <td>...</td>\n      <td>...</td>\n      <td>...</td>\n      <td>...</td>\n      <td>...</td>\n      <td>...</td>\n      <td>...</td>\n      <td>...</td>\n      <td>...</td>\n      <td>...</td>\n      <td>...</td>\n    </tr>\n    <tr>\n      <th>470981</th>\n      <td>918503</td>\n      <td>12/31/2020</td>\n      <td>RI</td>\n      <td>50.0</td>\n      <td>50.0</td>\n      <td>NaN</td>\n      <td>F</td>\n      <td>NaN</td>\n      <td>Nausea, tightness in chest from nausea  BP  10...</td>\n      <td>NaN</td>\n      <td>...</td>\n      <td>NaN</td>\n      <td>NaN</td>\n      <td>PCN, Prednisone, Bleach</td>\n      <td>COVID19</td>\n      <td>MODERNA</td>\n      <td>039K20A</td>\n      <td>1</td>\n      <td>IM</td>\n      <td>RA</td>\n      <td>COVID19 (COVID19 (MODERNA))</td>\n    </tr>\n    <tr>\n      <th>470982</th>\n      <td>918512</td>\n      <td>12/31/2020</td>\n      <td>OR</td>\n      <td>1.0</td>\n      <td>1.0</td>\n      <td>0.0</td>\n      <td>M</td>\n      <td>NaN</td>\n      <td>10 days after vaccines, developed hives &amp; indu...</td>\n      <td>NaN</td>\n      <td>...</td>\n      <td>Y</td>\n      <td>NaN</td>\n      <td>NKA</td>\n      <td>MMR</td>\n      <td>MERCK &amp; CO. INC.</td>\n      <td>S029457</td>\n      <td>1</td>\n      <td>SC</td>\n      <td>LL</td>\n      <td>MEASLES + MUMPS + RUBELLA (MMR II)</td>\n    </tr>\n    <tr>\n      <th>470983</th>\n      <td>918512</td>\n      <td>12/31/2020</td>\n      <td>OR</td>\n      <td>1.0</td>\n      <td>1.0</td>\n      <td>0.0</td>\n      <td>M</td>\n      <td>NaN</td>\n      <td>10 days after vaccines, developed hives &amp; indu...</td>\n      <td>NaN</td>\n      <td>...</td>\n      <td>Y</td>\n      <td>NaN</td>\n      <td>NKA</td>\n      <td>PNC13</td>\n      <td>PFIZER\\WYETH</td>\n      <td>DJ7723</td>\n      <td>4</td>\n      <td>IM</td>\n      <td>LL</td>\n      <td>PNEUMO (PREVNAR13)</td>\n    </tr>\n    <tr>\n      <th>470984</th>\n      <td>918512</td>\n      <td>12/31/2020</td>\n      <td>OR</td>\n      <td>1.0</td>\n      <td>1.0</td>\n      <td>0.0</td>\n      <td>M</td>\n      <td>NaN</td>\n      <td>10 days after vaccines, developed hives &amp; indu...</td>\n      <td>NaN</td>\n      <td>...</td>\n      <td>Y</td>\n      <td>NaN</td>\n      <td>NKA</td>\n      <td>VARCEL</td>\n      <td>MERCK &amp; CO. INC.</td>\n      <td>T020652</td>\n      <td>1</td>\n      <td>SC</td>\n      <td>RL</td>\n      <td>VARICELLA (VARIVAX)</td>\n    </tr>\n    <tr>\n      <th>470985</th>\n      <td>918561</td>\n      <td>12/31/2020</td>\n      <td>WA</td>\n      <td>95.0</td>\n      <td>95.0</td>\n      <td>NaN</td>\n      <td>F</td>\n      <td>NaN</td>\n      <td>Report of awakening with difficulty concentrat...</td>\n      <td>NaN</td>\n      <td>...</td>\n      <td>Y</td>\n      <td>Y</td>\n      <td>NSAIDs</td>\n      <td>COVID19</td>\n      <td>PFIZER\\BIONTECH</td>\n      <td>EJ1685</td>\n      <td>1</td>\n      <td>IM</td>\n      <td>LA</td>\n      <td>COVID19 (COVID19 (PFIZER-BIONTECH))</td>\n    </tr>\n  </tbody>\n</table>\n<p>470986 rows × 42 columns</p>\n</div>"
     },
     "metadata": {},
     "execution_count": 25
    }
   ],
   "source": [
    "df"
   ]
  },
  {
   "cell_type": "code",
   "execution_count": 43,
   "metadata": {},
   "outputs": [
    {
     "output_type": "execute_result",
     "data": {
      "text/plain": [
       "396936   2021-06-25\n",
       "396602   2021-06-25\n",
       "396595   2021-06-25\n",
       "396596   2021-06-25\n",
       "396597   2021-06-25\n",
       "            ...    \n",
       "18       2020-01-01\n",
       "19       2020-01-01\n",
       "20       2020-01-01\n",
       "21       2020-01-01\n",
       "22       2020-01-01\n",
       "Name: RECVDATE, Length: 446856, dtype: datetime64[ns]"
      ]
     },
     "metadata": {},
     "execution_count": 43
    }
   ],
   "source": [
    "df_list['data']['RECVDATE'].astype('datetime64').sort_values(ascending=False)"
   ]
  },
  {
   "cell_type": "code",
   "execution_count": null,
   "metadata": {},
   "outputs": [],
   "source": []
  }
 ]
}